{
 "cells": [
  {
   "cell_type": "code",
   "execution_count": 1,
   "id": "8292470c",
   "metadata": {},
   "outputs": [],
   "source": [
    "import pandas as pd\n",
    "import numpy as np"
   ]
  },
  {
   "cell_type": "code",
   "execution_count": 2,
   "id": "3ce9022f",
   "metadata": {},
   "outputs": [],
   "source": [
    "#clean data\n",
    "#check for all outliers\n",
    "#check for all missing values\n",
    "#check for the distribution of at least one variable (explore data)\n",
    "#if missing values are more, replace missing values with mean\n",
    "#come up with a data grouped according to the performance (depending on column name)\n",
    "#rank your grouping in any order"
   ]
  },
  {
   "cell_type": "code",
   "execution_count": 3,
   "id": "66e11b03",
   "metadata": {},
   "outputs": [],
   "source": [
    "df= pd.read_csv('unemployment_analysis.csv')"
   ]
  },
  {
   "cell_type": "code",
   "execution_count": 4,
   "id": "e211d21d",
   "metadata": {},
   "outputs": [
    {
     "data": {
      "text/html": [
       "<div>\n",
       "<style scoped>\n",
       "    .dataframe tbody tr th:only-of-type {\n",
       "        vertical-align: middle;\n",
       "    }\n",
       "\n",
       "    .dataframe tbody tr th {\n",
       "        vertical-align: top;\n",
       "    }\n",
       "\n",
       "    .dataframe thead th {\n",
       "        text-align: right;\n",
       "    }\n",
       "</style>\n",
       "<table border=\"1\" class=\"dataframe\">\n",
       "  <thead>\n",
       "    <tr style=\"text-align: right;\">\n",
       "      <th></th>\n",
       "      <th>Country Name</th>\n",
       "      <th>Country Code</th>\n",
       "      <th>1991</th>\n",
       "      <th>1992</th>\n",
       "      <th>1993</th>\n",
       "      <th>1994</th>\n",
       "      <th>1995</th>\n",
       "      <th>1996</th>\n",
       "      <th>1997</th>\n",
       "      <th>1998</th>\n",
       "      <th>...</th>\n",
       "      <th>2012</th>\n",
       "      <th>2013</th>\n",
       "      <th>2014</th>\n",
       "      <th>2015</th>\n",
       "      <th>2016</th>\n",
       "      <th>2017</th>\n",
       "      <th>2018</th>\n",
       "      <th>2019</th>\n",
       "      <th>2020</th>\n",
       "      <th>2021</th>\n",
       "    </tr>\n",
       "  </thead>\n",
       "  <tbody>\n",
       "    <tr>\n",
       "      <th>0</th>\n",
       "      <td>Africa Eastern and Southern</td>\n",
       "      <td>AFE</td>\n",
       "      <td>7.80</td>\n",
       "      <td>7.84</td>\n",
       "      <td>7.85</td>\n",
       "      <td>7.84</td>\n",
       "      <td>7.83</td>\n",
       "      <td>7.84</td>\n",
       "      <td>7.86</td>\n",
       "      <td>7.81</td>\n",
       "      <td>...</td>\n",
       "      <td>6.56</td>\n",
       "      <td>6.45</td>\n",
       "      <td>6.41</td>\n",
       "      <td>6.49</td>\n",
       "      <td>6.61</td>\n",
       "      <td>6.71</td>\n",
       "      <td>6.73</td>\n",
       "      <td>6.91</td>\n",
       "      <td>7.56</td>\n",
       "      <td>8.11</td>\n",
       "    </tr>\n",
       "    <tr>\n",
       "      <th>1</th>\n",
       "      <td>Afghanistan</td>\n",
       "      <td>AFG</td>\n",
       "      <td>10.65</td>\n",
       "      <td>10.82</td>\n",
       "      <td>10.72</td>\n",
       "      <td>10.73</td>\n",
       "      <td>11.18</td>\n",
       "      <td>10.96</td>\n",
       "      <td>10.78</td>\n",
       "      <td>10.80</td>\n",
       "      <td>...</td>\n",
       "      <td>11.34</td>\n",
       "      <td>11.19</td>\n",
       "      <td>11.14</td>\n",
       "      <td>11.13</td>\n",
       "      <td>11.16</td>\n",
       "      <td>11.18</td>\n",
       "      <td>11.15</td>\n",
       "      <td>11.22</td>\n",
       "      <td>11.71</td>\n",
       "      <td>13.28</td>\n",
       "    </tr>\n",
       "    <tr>\n",
       "      <th>2</th>\n",
       "      <td>Africa Western and Central</td>\n",
       "      <td>AFW</td>\n",
       "      <td>4.42</td>\n",
       "      <td>4.53</td>\n",
       "      <td>4.55</td>\n",
       "      <td>4.54</td>\n",
       "      <td>4.53</td>\n",
       "      <td>4.57</td>\n",
       "      <td>4.60</td>\n",
       "      <td>4.66</td>\n",
       "      <td>...</td>\n",
       "      <td>4.64</td>\n",
       "      <td>4.41</td>\n",
       "      <td>4.69</td>\n",
       "      <td>4.63</td>\n",
       "      <td>5.57</td>\n",
       "      <td>6.02</td>\n",
       "      <td>6.04</td>\n",
       "      <td>6.06</td>\n",
       "      <td>6.77</td>\n",
       "      <td>6.84</td>\n",
       "    </tr>\n",
       "    <tr>\n",
       "      <th>3</th>\n",
       "      <td>Angola</td>\n",
       "      <td>AGO</td>\n",
       "      <td>4.21</td>\n",
       "      <td>4.21</td>\n",
       "      <td>4.23</td>\n",
       "      <td>4.16</td>\n",
       "      <td>4.11</td>\n",
       "      <td>4.10</td>\n",
       "      <td>4.09</td>\n",
       "      <td>4.07</td>\n",
       "      <td>...</td>\n",
       "      <td>7.35</td>\n",
       "      <td>7.37</td>\n",
       "      <td>7.37</td>\n",
       "      <td>7.39</td>\n",
       "      <td>7.41</td>\n",
       "      <td>7.41</td>\n",
       "      <td>7.42</td>\n",
       "      <td>7.42</td>\n",
       "      <td>8.33</td>\n",
       "      <td>8.53</td>\n",
       "    </tr>\n",
       "    <tr>\n",
       "      <th>4</th>\n",
       "      <td>Albania</td>\n",
       "      <td>ALB</td>\n",
       "      <td>10.31</td>\n",
       "      <td>30.01</td>\n",
       "      <td>25.26</td>\n",
       "      <td>20.84</td>\n",
       "      <td>14.61</td>\n",
       "      <td>13.93</td>\n",
       "      <td>16.88</td>\n",
       "      <td>20.05</td>\n",
       "      <td>...</td>\n",
       "      <td>13.38</td>\n",
       "      <td>15.87</td>\n",
       "      <td>18.05</td>\n",
       "      <td>17.19</td>\n",
       "      <td>15.42</td>\n",
       "      <td>13.62</td>\n",
       "      <td>12.30</td>\n",
       "      <td>11.47</td>\n",
       "      <td>13.33</td>\n",
       "      <td>11.82</td>\n",
       "    </tr>\n",
       "  </tbody>\n",
       "</table>\n",
       "<p>5 rows × 33 columns</p>\n",
       "</div>"
      ],
      "text/plain": [
       "                  Country Name Country Code   1991   1992   1993   1994  \\\n",
       "0  Africa Eastern and Southern          AFE   7.80   7.84   7.85   7.84   \n",
       "1                  Afghanistan          AFG  10.65  10.82  10.72  10.73   \n",
       "2   Africa Western and Central          AFW   4.42   4.53   4.55   4.54   \n",
       "3                       Angola          AGO   4.21   4.21   4.23   4.16   \n",
       "4                      Albania          ALB  10.31  30.01  25.26  20.84   \n",
       "\n",
       "    1995   1996   1997   1998  ...   2012   2013   2014   2015   2016   2017  \\\n",
       "0   7.83   7.84   7.86   7.81  ...   6.56   6.45   6.41   6.49   6.61   6.71   \n",
       "1  11.18  10.96  10.78  10.80  ...  11.34  11.19  11.14  11.13  11.16  11.18   \n",
       "2   4.53   4.57   4.60   4.66  ...   4.64   4.41   4.69   4.63   5.57   6.02   \n",
       "3   4.11   4.10   4.09   4.07  ...   7.35   7.37   7.37   7.39   7.41   7.41   \n",
       "4  14.61  13.93  16.88  20.05  ...  13.38  15.87  18.05  17.19  15.42  13.62   \n",
       "\n",
       "    2018   2019   2020   2021  \n",
       "0   6.73   6.91   7.56   8.11  \n",
       "1  11.15  11.22  11.71  13.28  \n",
       "2   6.04   6.06   6.77   6.84  \n",
       "3   7.42   7.42   8.33   8.53  \n",
       "4  12.30  11.47  13.33  11.82  \n",
       "\n",
       "[5 rows x 33 columns]"
      ]
     },
     "execution_count": 4,
     "metadata": {},
     "output_type": "execute_result"
    }
   ],
   "source": [
    "df.head()"
   ]
  },
  {
   "cell_type": "code",
   "execution_count": 5,
   "id": "d27b2e79",
   "metadata": {},
   "outputs": [
    {
     "data": {
      "text/plain": [
       "(235, 33)"
      ]
     },
     "execution_count": 5,
     "metadata": {},
     "output_type": "execute_result"
    }
   ],
   "source": [
    "df.shape"
   ]
  },
  {
   "cell_type": "code",
   "execution_count": 6,
   "id": "baa97b62",
   "metadata": {},
   "outputs": [],
   "source": [
    "#create a copy of the original data\n",
    "df1= df.copy()"
   ]
  },
  {
   "cell_type": "code",
   "execution_count": 7,
   "id": "c9a8bba1",
   "metadata": {
    "scrolled": true
   },
   "outputs": [
    {
     "name": "stdout",
     "output_type": "stream",
     "text": [
      "<class 'pandas.core.frame.DataFrame'>\n",
      "RangeIndex: 235 entries, 0 to 234\n",
      "Data columns (total 33 columns):\n",
      " #   Column        Non-Null Count  Dtype  \n",
      "---  ------        --------------  -----  \n",
      " 0   Country Name  235 non-null    object \n",
      " 1   Country Code  235 non-null    object \n",
      " 2   1991          235 non-null    float64\n",
      " 3   1992          235 non-null    float64\n",
      " 4   1993          235 non-null    float64\n",
      " 5   1994          235 non-null    float64\n",
      " 6   1995          235 non-null    float64\n",
      " 7   1996          235 non-null    float64\n",
      " 8   1997          235 non-null    float64\n",
      " 9   1998          235 non-null    float64\n",
      " 10  1999          235 non-null    float64\n",
      " 11  2000          235 non-null    float64\n",
      " 12  2001          235 non-null    float64\n",
      " 13  2002          235 non-null    float64\n",
      " 14  2003          235 non-null    float64\n",
      " 15  2004          235 non-null    float64\n",
      " 16  2005          235 non-null    float64\n",
      " 17  2006          235 non-null    float64\n",
      " 18  2007          235 non-null    float64\n",
      " 19  2008          235 non-null    float64\n",
      " 20  2009          235 non-null    float64\n",
      " 21  2010          235 non-null    float64\n",
      " 22  2011          235 non-null    float64\n",
      " 23  2012          235 non-null    float64\n",
      " 24  2013          235 non-null    float64\n",
      " 25  2014          235 non-null    float64\n",
      " 26  2015          235 non-null    float64\n",
      " 27  2016          235 non-null    float64\n",
      " 28  2017          235 non-null    float64\n",
      " 29  2018          235 non-null    float64\n",
      " 30  2019          235 non-null    float64\n",
      " 31  2020          235 non-null    float64\n",
      " 32  2021          235 non-null    float64\n",
      "dtypes: float64(31), object(2)\n",
      "memory usage: 60.7+ KB\n"
     ]
    }
   ],
   "source": [
    "#get details about the data\n",
    "df1.info()"
   ]
  },
  {
   "cell_type": "code",
   "execution_count": 8,
   "id": "980ee1dd",
   "metadata": {},
   "outputs": [
    {
     "data": {
      "text/plain": [
       "Index(['Country Name', 'Country Code', '1991', '1992', '1993', '1994', '1995',\n",
       "       '1996', '1997', '1998', '1999', '2000', '2001', '2002', '2003', '2004',\n",
       "       '2005', '2006', '2007', '2008', '2009', '2010', '2011', '2012', '2013',\n",
       "       '2014', '2015', '2016', '2017', '2018', '2019', '2020', '2021'],\n",
       "      dtype='object')"
      ]
     },
     "execution_count": 8,
     "metadata": {},
     "output_type": "execute_result"
    }
   ],
   "source": [
    "#check the columns in the data set\n",
    "df1.columns"
   ]
  },
  {
   "cell_type": "code",
   "execution_count": 9,
   "id": "3e1f4962",
   "metadata": {
    "scrolled": true
   },
   "outputs": [],
   "source": [
    "#rename the columns\n",
    "df1.rename(columns ={\"Country Name\": \"country_name\", \"Country Code\":\"country_code\"}, inplace=True)\n",
    "\n"
   ]
  },
  {
   "cell_type": "code",
   "execution_count": 10,
   "id": "1d40ce1d",
   "metadata": {
    "scrolled": true
   },
   "outputs": [
    {
     "data": {
      "text/plain": [
       "Index(['country_name', 'country_code', '1991', '1992', '1993', '1994', '1995',\n",
       "       '1996', '1997', '1998', '1999', '2000', '2001', '2002', '2003', '2004',\n",
       "       '2005', '2006', '2007', '2008', '2009', '2010', '2011', '2012', '2013',\n",
       "       '2014', '2015', '2016', '2017', '2018', '2019', '2020', '2021'],\n",
       "      dtype='object')"
      ]
     },
     "execution_count": 10,
     "metadata": {},
     "output_type": "execute_result"
    }
   ],
   "source": [
    "df1.columns"
   ]
  },
  {
   "cell_type": "code",
   "execution_count": 11,
   "id": "6b2770bd",
   "metadata": {},
   "outputs": [],
   "source": [
    "#Take a subset of the data for past 10 years (2011-2021)\n",
    "df2=df1[['country_name', 'country_code','2011', '2012', '2013',\n",
    "       '2014', '2015', '2016', '2017', '2018', '2019', '2020', '2021']]"
   ]
  },
  {
   "cell_type": "code",
   "execution_count": 12,
   "id": "c3bad86a",
   "metadata": {
    "scrolled": false
   },
   "outputs": [
    {
     "data": {
      "text/html": [
       "<div>\n",
       "<style scoped>\n",
       "    .dataframe tbody tr th:only-of-type {\n",
       "        vertical-align: middle;\n",
       "    }\n",
       "\n",
       "    .dataframe tbody tr th {\n",
       "        vertical-align: top;\n",
       "    }\n",
       "\n",
       "    .dataframe thead th {\n",
       "        text-align: right;\n",
       "    }\n",
       "</style>\n",
       "<table border=\"1\" class=\"dataframe\">\n",
       "  <thead>\n",
       "    <tr style=\"text-align: right;\">\n",
       "      <th></th>\n",
       "      <th>country_name</th>\n",
       "      <th>country_code</th>\n",
       "      <th>2011</th>\n",
       "      <th>2012</th>\n",
       "      <th>2013</th>\n",
       "      <th>2014</th>\n",
       "      <th>2015</th>\n",
       "      <th>2016</th>\n",
       "      <th>2017</th>\n",
       "      <th>2018</th>\n",
       "      <th>2019</th>\n",
       "      <th>2020</th>\n",
       "      <th>2021</th>\n",
       "    </tr>\n",
       "  </thead>\n",
       "  <tbody>\n",
       "    <tr>\n",
       "      <th>0</th>\n",
       "      <td>Africa Eastern and Southern</td>\n",
       "      <td>AFE</td>\n",
       "      <td>6.75</td>\n",
       "      <td>6.56</td>\n",
       "      <td>6.45</td>\n",
       "      <td>6.41</td>\n",
       "      <td>6.49</td>\n",
       "      <td>6.61</td>\n",
       "      <td>6.71</td>\n",
       "      <td>6.73</td>\n",
       "      <td>6.91</td>\n",
       "      <td>7.56</td>\n",
       "      <td>8.11</td>\n",
       "    </tr>\n",
       "    <tr>\n",
       "      <th>1</th>\n",
       "      <td>Afghanistan</td>\n",
       "      <td>AFG</td>\n",
       "      <td>11.05</td>\n",
       "      <td>11.34</td>\n",
       "      <td>11.19</td>\n",
       "      <td>11.14</td>\n",
       "      <td>11.13</td>\n",
       "      <td>11.16</td>\n",
       "      <td>11.18</td>\n",
       "      <td>11.15</td>\n",
       "      <td>11.22</td>\n",
       "      <td>11.71</td>\n",
       "      <td>13.28</td>\n",
       "    </tr>\n",
       "    <tr>\n",
       "      <th>2</th>\n",
       "      <td>Africa Western and Central</td>\n",
       "      <td>AFW</td>\n",
       "      <td>4.55</td>\n",
       "      <td>4.64</td>\n",
       "      <td>4.41</td>\n",
       "      <td>4.69</td>\n",
       "      <td>4.63</td>\n",
       "      <td>5.57</td>\n",
       "      <td>6.02</td>\n",
       "      <td>6.04</td>\n",
       "      <td>6.06</td>\n",
       "      <td>6.77</td>\n",
       "      <td>6.84</td>\n",
       "    </tr>\n",
       "    <tr>\n",
       "      <th>3</th>\n",
       "      <td>Angola</td>\n",
       "      <td>AGO</td>\n",
       "      <td>7.36</td>\n",
       "      <td>7.35</td>\n",
       "      <td>7.37</td>\n",
       "      <td>7.37</td>\n",
       "      <td>7.39</td>\n",
       "      <td>7.41</td>\n",
       "      <td>7.41</td>\n",
       "      <td>7.42</td>\n",
       "      <td>7.42</td>\n",
       "      <td>8.33</td>\n",
       "      <td>8.53</td>\n",
       "    </tr>\n",
       "    <tr>\n",
       "      <th>4</th>\n",
       "      <td>Albania</td>\n",
       "      <td>ALB</td>\n",
       "      <td>13.48</td>\n",
       "      <td>13.38</td>\n",
       "      <td>15.87</td>\n",
       "      <td>18.05</td>\n",
       "      <td>17.19</td>\n",
       "      <td>15.42</td>\n",
       "      <td>13.62</td>\n",
       "      <td>12.30</td>\n",
       "      <td>11.47</td>\n",
       "      <td>13.33</td>\n",
       "      <td>11.82</td>\n",
       "    </tr>\n",
       "  </tbody>\n",
       "</table>\n",
       "</div>"
      ],
      "text/plain": [
       "                  country_name country_code   2011   2012   2013   2014  \\\n",
       "0  Africa Eastern and Southern          AFE   6.75   6.56   6.45   6.41   \n",
       "1                  Afghanistan          AFG  11.05  11.34  11.19  11.14   \n",
       "2   Africa Western and Central          AFW   4.55   4.64   4.41   4.69   \n",
       "3                       Angola          AGO   7.36   7.35   7.37   7.37   \n",
       "4                      Albania          ALB  13.48  13.38  15.87  18.05   \n",
       "\n",
       "    2015   2016   2017   2018   2019   2020   2021  \n",
       "0   6.49   6.61   6.71   6.73   6.91   7.56   8.11  \n",
       "1  11.13  11.16  11.18  11.15  11.22  11.71  13.28  \n",
       "2   4.63   5.57   6.02   6.04   6.06   6.77   6.84  \n",
       "3   7.39   7.41   7.41   7.42   7.42   8.33   8.53  \n",
       "4  17.19  15.42  13.62  12.30  11.47  13.33  11.82  "
      ]
     },
     "execution_count": 12,
     "metadata": {},
     "output_type": "execute_result"
    }
   ],
   "source": [
    "df2.head()"
   ]
  },
  {
   "cell_type": "code",
   "execution_count": 13,
   "id": "6b6e2abc",
   "metadata": {},
   "outputs": [
    {
     "data": {
      "text/html": [
       "<div>\n",
       "<style scoped>\n",
       "    .dataframe tbody tr th:only-of-type {\n",
       "        vertical-align: middle;\n",
       "    }\n",
       "\n",
       "    .dataframe tbody tr th {\n",
       "        vertical-align: top;\n",
       "    }\n",
       "\n",
       "    .dataframe thead th {\n",
       "        text-align: right;\n",
       "    }\n",
       "</style>\n",
       "<table border=\"1\" class=\"dataframe\">\n",
       "  <thead>\n",
       "    <tr style=\"text-align: right;\">\n",
       "      <th></th>\n",
       "      <th>2011</th>\n",
       "      <th>2012</th>\n",
       "      <th>2013</th>\n",
       "      <th>2014</th>\n",
       "      <th>2015</th>\n",
       "      <th>2016</th>\n",
       "      <th>2017</th>\n",
       "      <th>2018</th>\n",
       "      <th>2019</th>\n",
       "      <th>2020</th>\n",
       "      <th>2021</th>\n",
       "    </tr>\n",
       "  </thead>\n",
       "  <tbody>\n",
       "    <tr>\n",
       "      <th>count</th>\n",
       "      <td>235.00000</td>\n",
       "      <td>235.000000</td>\n",
       "      <td>235.000000</td>\n",
       "      <td>235.000000</td>\n",
       "      <td>235.000000</td>\n",
       "      <td>235.000000</td>\n",
       "      <td>235.000000</td>\n",
       "      <td>235.000000</td>\n",
       "      <td>235.000000</td>\n",
       "      <td>235.000000</td>\n",
       "      <td>235.000000</td>\n",
       "    </tr>\n",
       "    <tr>\n",
       "      <th>mean</th>\n",
       "      <td>8.04183</td>\n",
       "      <td>8.062553</td>\n",
       "      <td>8.086468</td>\n",
       "      <td>7.924340</td>\n",
       "      <td>7.818426</td>\n",
       "      <td>7.720979</td>\n",
       "      <td>7.485404</td>\n",
       "      <td>7.247404</td>\n",
       "      <td>7.087362</td>\n",
       "      <td>8.278809</td>\n",
       "      <td>8.219660</td>\n",
       "    </tr>\n",
       "    <tr>\n",
       "      <th>std</th>\n",
       "      <td>5.67518</td>\n",
       "      <td>5.780173</td>\n",
       "      <td>5.832019</td>\n",
       "      <td>5.699899</td>\n",
       "      <td>5.574759</td>\n",
       "      <td>5.456333</td>\n",
       "      <td>5.318381</td>\n",
       "      <td>5.240429</td>\n",
       "      <td>5.129146</td>\n",
       "      <td>5.470319</td>\n",
       "      <td>5.506914</td>\n",
       "    </tr>\n",
       "    <tr>\n",
       "      <th>min</th>\n",
       "      <td>0.32000</td>\n",
       "      <td>0.480000</td>\n",
       "      <td>0.250000</td>\n",
       "      <td>0.200000</td>\n",
       "      <td>0.170000</td>\n",
       "      <td>0.150000</td>\n",
       "      <td>0.140000</td>\n",
       "      <td>0.110000</td>\n",
       "      <td>0.100000</td>\n",
       "      <td>0.210000</td>\n",
       "      <td>0.260000</td>\n",
       "    </tr>\n",
       "    <tr>\n",
       "      <th>25%</th>\n",
       "      <td>4.27000</td>\n",
       "      <td>4.090000</td>\n",
       "      <td>4.245000</td>\n",
       "      <td>4.200000</td>\n",
       "      <td>4.315000</td>\n",
       "      <td>4.310000</td>\n",
       "      <td>4.075000</td>\n",
       "      <td>3.875000</td>\n",
       "      <td>3.805000</td>\n",
       "      <td>4.620000</td>\n",
       "      <td>4.750000</td>\n",
       "    </tr>\n",
       "    <tr>\n",
       "      <th>50%</th>\n",
       "      <td>6.50000</td>\n",
       "      <td>6.450000</td>\n",
       "      <td>6.290000</td>\n",
       "      <td>6.150000</td>\n",
       "      <td>6.080000</td>\n",
       "      <td>6.010000</td>\n",
       "      <td>5.800000</td>\n",
       "      <td>5.620000</td>\n",
       "      <td>5.530000</td>\n",
       "      <td>6.800000</td>\n",
       "      <td>6.580000</td>\n",
       "    </tr>\n",
       "    <tr>\n",
       "      <th>75%</th>\n",
       "      <td>10.41500</td>\n",
       "      <td>10.655000</td>\n",
       "      <td>10.465000</td>\n",
       "      <td>10.290000</td>\n",
       "      <td>10.080000</td>\n",
       "      <td>9.895000</td>\n",
       "      <td>9.445000</td>\n",
       "      <td>9.060000</td>\n",
       "      <td>8.605000</td>\n",
       "      <td>10.230000</td>\n",
       "      <td>10.245000</td>\n",
       "    </tr>\n",
       "    <tr>\n",
       "      <th>max</th>\n",
       "      <td>31.38000</td>\n",
       "      <td>31.020000</td>\n",
       "      <td>29.000000</td>\n",
       "      <td>28.030000</td>\n",
       "      <td>27.690000</td>\n",
       "      <td>26.540000</td>\n",
       "      <td>27.040000</td>\n",
       "      <td>26.910000</td>\n",
       "      <td>28.470000</td>\n",
       "      <td>29.220000</td>\n",
       "      <td>33.560000</td>\n",
       "    </tr>\n",
       "  </tbody>\n",
       "</table>\n",
       "</div>"
      ],
      "text/plain": [
       "            2011        2012        2013        2014        2015        2016  \\\n",
       "count  235.00000  235.000000  235.000000  235.000000  235.000000  235.000000   \n",
       "mean     8.04183    8.062553    8.086468    7.924340    7.818426    7.720979   \n",
       "std      5.67518    5.780173    5.832019    5.699899    5.574759    5.456333   \n",
       "min      0.32000    0.480000    0.250000    0.200000    0.170000    0.150000   \n",
       "25%      4.27000    4.090000    4.245000    4.200000    4.315000    4.310000   \n",
       "50%      6.50000    6.450000    6.290000    6.150000    6.080000    6.010000   \n",
       "75%     10.41500   10.655000   10.465000   10.290000   10.080000    9.895000   \n",
       "max     31.38000   31.020000   29.000000   28.030000   27.690000   26.540000   \n",
       "\n",
       "             2017        2018        2019        2020        2021  \n",
       "count  235.000000  235.000000  235.000000  235.000000  235.000000  \n",
       "mean     7.485404    7.247404    7.087362    8.278809    8.219660  \n",
       "std      5.318381    5.240429    5.129146    5.470319    5.506914  \n",
       "min      0.140000    0.110000    0.100000    0.210000    0.260000  \n",
       "25%      4.075000    3.875000    3.805000    4.620000    4.750000  \n",
       "50%      5.800000    5.620000    5.530000    6.800000    6.580000  \n",
       "75%      9.445000    9.060000    8.605000   10.230000   10.245000  \n",
       "max     27.040000   26.910000   28.470000   29.220000   33.560000  "
      ]
     },
     "execution_count": 13,
     "metadata": {},
     "output_type": "execute_result"
    }
   ],
   "source": [
    "df2.describe()"
   ]
  },
  {
   "cell_type": "code",
   "execution_count": 14,
   "id": "a7962501",
   "metadata": {
    "scrolled": true
   },
   "outputs": [
    {
     "data": {
      "text/plain": [
       "country_name    0\n",
       "country_code    0\n",
       "2011            0\n",
       "2012            0\n",
       "2013            0\n",
       "2014            0\n",
       "2015            0\n",
       "2016            0\n",
       "2017            0\n",
       "2018            0\n",
       "2019            0\n",
       "2020            0\n",
       "2021            0\n",
       "dtype: int64"
      ]
     },
     "execution_count": 14,
     "metadata": {},
     "output_type": "execute_result"
    }
   ],
   "source": [
    "#check for null values\n",
    "df2.isnull().sum()"
   ]
  },
  {
   "cell_type": "code",
   "execution_count": 15,
   "id": "07305efe",
   "metadata": {},
   "outputs": [
    {
     "data": {
      "text/plain": [
       "0"
      ]
     },
     "execution_count": 15,
     "metadata": {},
     "output_type": "execute_result"
    }
   ],
   "source": [
    "#check for duplicates\n",
    "df2.duplicated().sum()"
   ]
  },
  {
   "cell_type": "code",
   "execution_count": 16,
   "id": "ad65c1a4",
   "metadata": {},
   "outputs": [
    {
     "data": {
      "image/png": "[encoded data removed]",
      "text/plain": [
       "<Figure size 432x288 with 1 Axes>"
      ]
     },
     "metadata": {
      "needs_background": "light"
     },
     "output_type": "display_data"
    }
   ],
   "source": [
    "#Check the distribution of values for the year 2021\n",
    "df2['2021'].plot.hist(); #Right skewed distribution"
   ]
  },
  {
   "cell_type": "code",
   "execution_count": 17,
   "id": "677ab83e",
   "metadata": {},
   "outputs": [
    {
     "data": {
      "image/png": "[encoded data removed]",
      "text/plain": [
       "<Figure size 432x288 with 1 Axes>"
      ]
     },
     "metadata": {
      "needs_background": "light"
     },
     "output_type": "display_data"
    }
   ],
   "source": [
    "#check for outliers\n",
    "df2['2021'].plot.box();"
   ]
  },
  {
   "cell_type": "code",
   "execution_count": 18,
   "id": "be43a60b",
   "metadata": {
    "scrolled": false
   },
   "outputs": [],
   "source": [
    "#Get the top 10 countries with the highest unemployment rate in 2021\n",
    "top_ten=df2[['country_name','2021']].nlargest(10,columns='2021')"
   ]
  },
  {
   "cell_type": "code",
   "execution_count": 19,
   "id": "302c176e",
   "metadata": {
    "scrolled": true
   },
   "outputs": [
    {
     "data": {
      "text/html": [
       "<div>\n",
       "<style scoped>\n",
       "    .dataframe tbody tr th:only-of-type {\n",
       "        vertical-align: middle;\n",
       "    }\n",
       "\n",
       "    .dataframe tbody tr th {\n",
       "        vertical-align: top;\n",
       "    }\n",
       "\n",
       "    .dataframe thead th {\n",
       "        text-align: right;\n",
       "    }\n",
       "</style>\n",
       "<table border=\"1\" class=\"dataframe\">\n",
       "  <thead>\n",
       "    <tr style=\"text-align: right;\">\n",
       "      <th></th>\n",
       "      <th>country_name</th>\n",
       "      <th>2021</th>\n",
       "    </tr>\n",
       "  </thead>\n",
       "  <tbody>\n",
       "    <tr>\n",
       "      <th>232</th>\n",
       "      <td>South Africa</td>\n",
       "      <td>33.56</td>\n",
       "    </tr>\n",
       "    <tr>\n",
       "      <th>49</th>\n",
       "      <td>Djibouti</td>\n",
       "      <td>28.39</td>\n",
       "    </tr>\n",
       "    <tr>\n",
       "      <th>199</th>\n",
       "      <td>Eswatini</td>\n",
       "      <td>25.76</td>\n",
       "    </tr>\n",
       "    <tr>\n",
       "      <th>172</th>\n",
       "      <td>West Bank and Gaza</td>\n",
       "      <td>24.90</td>\n",
       "    </tr>\n",
       "    <tr>\n",
       "      <th>28</th>\n",
       "      <td>Botswana</td>\n",
       "      <td>24.72</td>\n",
       "    </tr>\n",
       "  </tbody>\n",
       "</table>\n",
       "</div>"
      ],
      "text/plain": [
       "           country_name   2021\n",
       "232        South Africa  33.56\n",
       "49             Djibouti  28.39\n",
       "199            Eswatini  25.76\n",
       "172  West Bank and Gaza  24.90\n",
       "28             Botswana  24.72"
      ]
     },
     "execution_count": 19,
     "metadata": {},
     "output_type": "execute_result"
    }
   ],
   "source": [
    "top_ten.head()"
   ]
  },
  {
   "cell_type": "code",
   "execution_count": 20,
   "id": "2cfa4e5d",
   "metadata": {},
   "outputs": [
    {
     "data": {
      "image/png": "[encoded data removed]",
      "text/plain": [
       "<Figure size 432x288 with 1 Axes>"
      ]
     },
     "metadata": {
      "needs_background": "light"
     },
     "output_type": "display_data"
    }
   ],
   "source": [
    "top_ten.plot.bar(x='country_name', y='2021', title='Top 10 countries with highest Unemployment Rate 2021', ylabel='Unemployment Rate', xlabel='Countries');"
   ]
  },
  {
   "cell_type": "code",
   "execution_count": 21,
   "id": "3e4bd00d",
   "metadata": {},
   "outputs": [
    {
     "data": {
      "text/html": [
       "<div>\n",
       "<style scoped>\n",
       "    .dataframe tbody tr th:only-of-type {\n",
       "        vertical-align: middle;\n",
       "    }\n",
       "\n",
       "    .dataframe tbody tr th {\n",
       "        vertical-align: top;\n",
       "    }\n",
       "\n",
       "    .dataframe thead th {\n",
       "        text-align: right;\n",
       "    }\n",
       "</style>\n",
       "<table border=\"1\" class=\"dataframe\">\n",
       "  <thead>\n",
       "    <tr style=\"text-align: right;\">\n",
       "      <th></th>\n",
       "      <th>country_name</th>\n",
       "      <th>country_code</th>\n",
       "      <th>2011</th>\n",
       "      <th>2012</th>\n",
       "      <th>2013</th>\n",
       "      <th>2014</th>\n",
       "      <th>2015</th>\n",
       "      <th>2016</th>\n",
       "      <th>2017</th>\n",
       "      <th>2018</th>\n",
       "      <th>2019</th>\n",
       "      <th>2020</th>\n",
       "      <th>2021</th>\n",
       "    </tr>\n",
       "  </thead>\n",
       "  <tbody>\n",
       "    <tr>\n",
       "      <th>152</th>\n",
       "      <td>Nigeria</td>\n",
       "      <td>NGA</td>\n",
       "      <td>3.77</td>\n",
       "      <td>3.74</td>\n",
       "      <td>3.7</td>\n",
       "      <td>4.56</td>\n",
       "      <td>4.31</td>\n",
       "      <td>7.06</td>\n",
       "      <td>8.39</td>\n",
       "      <td>8.46</td>\n",
       "      <td>8.53</td>\n",
       "      <td>9.71</td>\n",
       "      <td>9.79</td>\n",
       "    </tr>\n",
       "  </tbody>\n",
       "</table>\n",
       "</div>"
      ],
      "text/plain": [
       "    country_name country_code  2011  2012  2013  2014  2015  2016  2017  2018  \\\n",
       "152      Nigeria          NGA  3.77  3.74   3.7  4.56  4.31  7.06  8.39  8.46   \n",
       "\n",
       "     2019  2020  2021  \n",
       "152  8.53  9.71  9.79  "
      ]
     },
     "execution_count": 21,
     "metadata": {},
     "output_type": "execute_result"
    }
   ],
   "source": [
    "#select the details for nigeria\n",
    "df_nig=df2[df2['country_name'] == 'Nigeria']\n",
    "df_nig"
   ]
  },
  {
   "cell_type": "code",
   "execution_count": 22,
   "id": "da5884ee",
   "metadata": {},
   "outputs": [
    {
     "data": {
      "image/png": "[encoded data removed]",
      "text/plain": [
       "<Figure size 432x288 with 1 Axes>"
      ]
     },
     "metadata": {
      "needs_background": "light"
     },
     "output_type": "display_data"
    }
   ],
   "source": [
    "#plot the unmployment rate for the the past 10 years\n",
    "df_nig.iloc[0][2:].plot(kind='line', title='Unemployment rate from 2011 - 2021', xlabel='Year', ylabel='Unemployment Rate' );"
   ]
  }
 ],
 "metadata": {
  "kernelspec": {
   "display_name": "Python 3 (ipykernel)",
   "language": "python",
   "name": "python3"
  },
  "language_info": {
   "codemirror_mode": {
    "name": "ipython",
    "version": 3
   },
   "file_extension": ".py",
   "mimetype": "text/x-python",
   "name": "python",
   "nbconvert_exporter": "python",
   "pygments_lexer": "ipython3",
   "version": "3.9.7"
  }
 },
 "nbformat": 4,
 "nbformat_minor": 5
}
